{
 "cells": [
  {
   "cell_type": "markdown",
   "id": "3a3eeb60-3a07-4b83-b057-75dddf8a6055",
   "metadata": {},
   "source": [
    "# This notebook shows an example of resume summarization into a cover letter using DeepSeek-R1."
   ]
  },
  {
   "cell_type": "code",
   "execution_count": null,
   "id": "e88831a3-16a3-42c3-9de1-81c69ecc6ebd",
   "metadata": {},
   "outputs": [],
   "source": [
    "# This cell contains the imports for our summarization solution\n",
    "import os\n",
    "from pypdf import PdfReader\n",
    "import ollama\n",
    "from docx import Document"
   ]
  },
  {
   "cell_type": "code",
   "execution_count": null,
   "id": "6a622c60-eace-4657-a6c7-c556d1a41bf7",
   "metadata": {},
   "outputs": [],
   "source": [
    "# Defining the constants\n",
    "MODEL = \"deepseek-r1:1.5b\""
   ]
  },
  {
   "cell_type": "code",
   "execution_count": null,
   "id": "d6d80a44-90d1-4646-bb8d-eaa3e403e295",
   "metadata": {},
   "outputs": [],
   "source": [
    "!ollama pull deepseek-r1:1.5b"
   ]
  },
  {
   "cell_type": "code",
   "execution_count": null,
   "id": "471070eb-9b39-41a2-8443-112cd18fd334",
   "metadata": {},
   "outputs": [],
   "source": [
    "reader = PdfReader(\"Insert the name of or the path to your PDF file here.pdf\")"
   ]
  },
  {
   "cell_type": "code",
   "execution_count": null,
   "id": "ed1d5b6d-c617-4b8e-a32a-7db3134962fe",
   "metadata": {},
   "outputs": [],
   "source": [
    "def merge_pages(current_page, next_page):\n",
    "    #This function merges the text from a multipage pdf document\n",
    "    current_page.merge_page(page2=next_page, over=True)\n",
    "    return"
   ]
  },
  {
   "cell_type": "code",
   "execution_count": null,
   "id": "bbacbd5f-6eb7-41f4-b7ab-51ba621e4076",
   "metadata": {},
   "outputs": [],
   "source": [
    "# This for loop iterates over the pages of your resume and merges them into one single page with all the content combined\n",
    "for page_number in range(len(reader.pages)):\n",
    "    print(f\"Page number:{page_number}.\")\n",
    "    \n",
    "    if page_number == 0:\n",
    "        page = reader.pages[page_number]\n",
    "        next_page = reader.pages[page_number+1]\n",
    "        merge_pages(page, next_page)\n",
    "    elif page_number > 0 and page_number < len(reader.pages)-1:\n",
    "        next_page = reader.pages[page_number+1]\n",
    "        merge_pages(page, next_page)\n",
    "    else:\n",
    "        break      "
   ]
  },
  {
   "cell_type": "code",
   "execution_count": null,
   "id": "f970f5ba-a55d-4eb1-9c40-63ce5aaa7453",
   "metadata": {},
   "outputs": [],
   "source": [
    "# Printing the content merged into just one page\n",
    "print(page.extract_text())"
   ]
  },
  {
   "cell_type": "code",
   "execution_count": null,
   "id": "3841e5d9-96b9-4c05-966d-8ad66f53e24a",
   "metadata": {},
   "outputs": [],
   "source": [
    "# Extracting the text from the merged page\n",
    "resume_text = page.extract_text()"
   ]
  },
  {
   "cell_type": "code",
   "execution_count": null,
   "id": "0cd0d797-4886-4ec1-a919-4650dcd07bc6",
   "metadata": {},
   "outputs": [],
   "source": [
    "# Creating a class to represent a resume\n",
    "\n",
    "class Resume:\n",
    "    def __init__(self, text):\n",
    "        self.text = text"
   ]
  },
  {
   "cell_type": "code",
   "execution_count": null,
   "id": "44a99974-1c8c-4867-b3b3-969a62f0ddcf",
   "metadata": {},
   "outputs": [],
   "source": [
    "# Defining the system prompt\n",
    "\n",
    "system_prompt = \"You are an assistant that analyzes the content of a resume \\\n",
    "and provides a short summary in a cover letter for a job application.\\ Respond in a cover letter format.\""
   ]
  },
  {
   "cell_type": "code",
   "execution_count": null,
   "id": "881042d1-1b6d-44ff-8ceb-6d155c7ff752",
   "metadata": {},
   "outputs": [],
   "source": [
    "# This function that defines and returns the user prompt for a resume\n",
    "\n",
    "def user_prompt_for(resume):\n",
    "    user_prompt = f\"You are looking at a resume.\"\n",
    "    user_prompt += \"\\nThe content of this resume is as follows; \\\n",
    "please provide a short summary of this resume in a cover letter for a job application. \\\n",
    "If it includes skills and work experience, then summarize these too.\\n\\n\"\n",
    "    user_prompt += resume.text\n",
    "    return user_prompt"
   ]
  },
  {
   "cell_type": "code",
   "execution_count": null,
   "id": "a83983f3-75fd-48e5-8db6-fef787bf247c",
   "metadata": {},
   "outputs": [],
   "source": [
    "def messages_for(resume):\n",
    "    return [\n",
    "        {\"role\": \"system\", \"content\": system_prompt},\n",
    "        {\"role\": \"user\", \"content\": user_prompt_for(resume)}\n",
    "    ]"
   ]
  },
  {
   "cell_type": "code",
   "execution_count": null,
   "id": "83bce450-994c-417f-9997-b32033c82dcb",
   "metadata": {},
   "outputs": [],
   "source": [
    "def summarize(text):\n",
    "    resume = Resume(text)\n",
    "    messages = messages_for(resume)\n",
    "    response = ollama.chat(model=MODEL, messages=messages)\n",
    "    return response.message.content"
   ]
  },
  {
   "cell_type": "code",
   "execution_count": null,
   "id": "16b29256-b26d-4d20-b9cd-e06521f86704",
   "metadata": {},
   "outputs": [],
   "source": [
    "summary = summarize(resume_text)"
   ]
  },
  {
   "cell_type": "code",
   "execution_count": null,
   "id": "62c6d89c-af05-46dd-884d-6a24d4e8f9db",
   "metadata": {},
   "outputs": [],
   "source": [
    "summary"
   ]
  },
  {
   "cell_type": "code",
   "execution_count": null,
   "id": "091762ae-880f-45f6-8d43-e73a22f61c06",
   "metadata": {},
   "outputs": [],
   "source": [
    "# The lines below save the summary as a MS Word file\n",
    "\n",
    "# Creating a Word document\n",
    "document = Document()\n",
    "\n",
    "# Adding the summary to the document as a paragraph\n",
    "document.add_paragraph(summary)\n",
    "\n",
    "# Saving the document to a docx file\n",
    "document.save(\"cover_letter_from_deepseek-r1.docx\")\n",
    "\n",
    "print(\"The file 'cover_letter_from_deepseek-r1.docx' was successfully saved!\")"
   ]
  },
  {
   "cell_type": "code",
   "execution_count": null,
   "id": "4336432a-eb40-428b-a69e-22cd273f3cf2",
   "metadata": {},
   "outputs": [],
   "source": []
  }
 ],
 "metadata": {
  "kernelspec": {
   "display_name": "Python 3 (ipykernel)",
   "language": "python",
   "name": "python3"
  },
  "language_info": {
   "codemirror_mode": {
    "name": "ipython",
    "version": 3
   },
   "file_extension": ".py",
   "mimetype": "text/x-python",
   "name": "python",
   "nbconvert_exporter": "python",
   "pygments_lexer": "ipython3",
   "version": "3.11.13"
  }
 },
 "nbformat": 4,
 "nbformat_minor": 5
}
